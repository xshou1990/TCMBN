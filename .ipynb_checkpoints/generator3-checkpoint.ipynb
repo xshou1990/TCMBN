{
 "cells": [
  {
   "cell_type": "code",
   "execution_count": 24,
   "metadata": {},
   "outputs": [],
   "source": [
    "import matplotlib.pyplot as plt\n",
    "import numpy as np\n",
    "import sys\n",
    "import joblib\n",
    "import pickle\n",
    "sys.modules['sklearn.externals.joblib'] = joblib\n",
    "\n",
    "from tick.hawkes import SimuHawkesSumExpKernels, SimuHawkesMulti, \\\n",
    "    HawkesSumExpKern\n",
    "#1000,1001,1003,1004,1005 <-> 1039,1040,1042,1043,1044\n",
    "\n",
    "np.random.seed(1005)\n",
    "\n",
    "end_time = 100\n",
    "n_realizations = 1000\n",
    "\n",
    "decays = [.5 ]\n",
    "baseline = [0.2]\n",
    "adjacency = [[[0.1]]]\n",
    "\n",
    "hawkes_exp_kernels = SimuHawkesSumExpKernels(\n",
    "    adjacency=adjacency, decays=decays, baseline=baseline,\n",
    "    end_time=end_time, verbose=False, seed=1044)\n",
    "\n",
    "multi = SimuHawkesMulti(hawkes_exp_kernels, n_simulations=n_realizations)\n",
    "\n",
    "multi.end_time = (np.ones(n_realizations)*100).tolist()\n",
    "multi.simulate()\n"
   ]
  },
  {
   "cell_type": "code",
   "execution_count": 25,
   "metadata": {},
   "outputs": [
    {
     "data": {
      "text/plain": [
       "[array([ 0.95757447,  8.30633225, 14.94222316, 20.59395953, 26.51182886,\n",
       "        42.6559066 , 49.93528075, 52.27214714, 52.70586586, 57.80387382,\n",
       "        68.02727461, 68.32906508, 88.54828908, 96.36029724, 98.03940471])]"
      ]
     },
     "execution_count": 25,
     "metadata": {},
     "output_type": "execute_result"
    }
   ],
   "source": [
    "multi.timestamps[0]"
   ]
  },
  {
   "cell_type": "code",
   "execution_count": 26,
   "metadata": {},
   "outputs": [],
   "source": [
    "# u1 = [0.6]*5\n",
    "# u2 = [0.7]*5 \n",
    "# u3 = [0.8]*5\n",
    "# u4 = [0.9]*5\n",
    "# u = [u1,u2,u3,u4]\n",
    "# pi = [0.4,0.3,0.2,0.1]\n",
    "# u = [0.6]*5\n",
    "# sample = []\n",
    "# for p in u:\n",
    "#     sample.append (np.random.binomial(1, p, 1)[0])\n",
    "# sample"
   ]
  },
  {
   "cell_type": "code",
   "execution_count": 27,
   "metadata": {},
   "outputs": [],
   "source": [
    "# def mixture_bernoulli_generator(pi,u):\n",
    "#     sample = []\n",
    "#     s = np.random.multinomial(1, pi, size=1)[0]\n",
    "#     u_s = u[s[s ==1][0]]\n",
    "#     for p in u_s:\n",
    "#         sample.append (np.random.binomial(1, p, 1)[0])\n",
    "#     return sample\n",
    "def diag_bernoulli_generator(u):\n",
    "    sample = []\n",
    "    for p in u:\n",
    "        sample.append (np.random.binomial(1, p, 1)[0])\n",
    "    return sample"
   ]
  },
  {
   "cell_type": "code",
   "execution_count": 28,
   "metadata": {},
   "outputs": [
    {
     "name": "stdout",
     "output_type": "stream",
     "text": [
      "39.02614378929138\n"
     ]
    }
   ],
   "source": [
    "# # collect list of lists for event time and marks\n",
    "import time\n",
    "np.random.seed(1005)\n",
    "starttime = time.time()\n",
    "dim = 5\n",
    "event_type_list = []\n",
    "event_time_list = []\n",
    "for i in range(len(multi.timestamps)):\n",
    "    u = [0.5]*dim\n",
    "    u_add = np.zeros(dim)\n",
    "    user_type_list = []\n",
    "    user_time_list = []\n",
    "    for j in range(len(multi.timestamps[i][0])):\n",
    "        user_time_list.append(multi.timestamps[i][0][j])\n",
    "        a = diag_bernoulli_generator(u)\n",
    "        while sum(a) == 0:\n",
    "            a = diag_bernoulli_generator(u)\n",
    "        user_type_list.append(a)  \n",
    "        counts = np.sum(np.array(user_type_list),axis=0)\n",
    "        if (counts[0]+counts[1]) != 0:\n",
    "            u_add[0] = counts[0]/ (counts[0]+counts[1]) \n",
    "            u_add[1] = counts[1]/ (counts[0]+counts[1])\n",
    "        if (counts[2]+counts[3]+counts[4]) != 0:\n",
    "            u_add[2] = counts[2]/ (counts[2]+counts[3]+counts[4]) \n",
    "            u_add[3] = counts[3]/ (counts[2]+counts[3]+counts[4]) \n",
    "            u_add[4] = counts[4]/ (counts[2]+counts[3]+counts[4]) \n",
    "        for k in range(dim):\n",
    "            if u_add[k] != 0:\n",
    "                u[k] = u_add[k]\n",
    "    event_type_list.append(user_type_list)\n",
    "    event_time_list.append(user_time_list)\n",
    "\n",
    "endtime = time.time()\n",
    "print(endtime - starttime)"
   ]
  },
  {
   "cell_type": "code",
   "execution_count": 29,
   "metadata": {},
   "outputs": [
    {
     "name": "stderr",
     "output_type": "stream",
     "text": [
      "/home/shoux/.conda/envs/health3/lib/python3.7/site-packages/ipykernel_launcher.py:1: VisibleDeprecationWarning: Creating an ndarray from ragged nested sequences (which is a list-or-tuple of lists-or-tuples-or ndarrays with different lengths or shapes) is deprecated. If you meant to do this, you must specify 'dtype=object' when creating the ndarray\n",
      "  \"\"\"Entry point for launching an IPython kernel.\n"
     ]
    }
   ],
   "source": [
    "np.savez_compressed('hawkes5_mbn', marks=np.array(event_type_list), arrival_times=np.array(event_time_list))"
   ]
  },
  {
   "cell_type": "code",
   "execution_count": null,
   "metadata": {},
   "outputs": [],
   "source": []
  }
 ],
 "metadata": {
  "kernelspec": {
   "display_name": "Python (health3)",
   "language": "python",
   "name": "health3"
  },
  "language_info": {
   "codemirror_mode": {
    "name": "ipython",
    "version": 3
   },
   "file_extension": ".py",
   "mimetype": "text/x-python",
   "name": "python",
   "nbconvert_exporter": "python",
   "pygments_lexer": "ipython3",
   "version": "3.7.3"
  }
 },
 "nbformat": 4,
 "nbformat_minor": 2
}
